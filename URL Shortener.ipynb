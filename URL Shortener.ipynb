{
 "cells": [
  {
   "cell_type": "code",
   "execution_count": 1,
   "id": "1165c00c",
   "metadata": {},
   "outputs": [],
   "source": [
    "import pyshorteners"
   ]
  },
  {
   "cell_type": "code",
   "execution_count": 2,
   "id": "dc0db513",
   "metadata": {},
   "outputs": [
    {
     "name": "stdout",
     "output_type": "stream",
     "text": [
      "Enter the URL to be shorten: https://example.com/assets/category_B/subcategory_C/Foo/\n"
     ]
    }
   ],
   "source": [
    "url= input(\"Enter the URL to be shorten: \")"
   ]
  },
  {
   "cell_type": "code",
   "execution_count": 3,
   "id": "5715158f",
   "metadata": {},
   "outputs": [],
   "source": [
    "tiny = pyshorteners.Shortener()"
   ]
  },
  {
   "cell_type": "code",
   "execution_count": 4,
   "id": "3ca0b3e7",
   "metadata": {},
   "outputs": [
    {
     "name": "stdout",
     "output_type": "stream",
     "text": [
      "The Shortened URL is: https://tinyurl.com/y3qcz8ex\n"
     ]
    }
   ],
   "source": [
    "short_url = tiny.tinyurl.short(url)\n",
    " \n",
    "print(\"The Shortened URL is: \" + short_url)"
   ]
  },
  {
   "cell_type": "code",
   "execution_count": null,
   "id": "e87a9c5e",
   "metadata": {},
   "outputs": [],
   "source": []
  }
 ],
 "metadata": {
  "kernelspec": {
   "display_name": "Python 3 (ipykernel)",
   "language": "python",
   "name": "python3"
  },
  "language_info": {
   "codemirror_mode": {
    "name": "ipython",
    "version": 3
   },
   "file_extension": ".py",
   "mimetype": "text/x-python",
   "name": "python",
   "nbconvert_exporter": "python",
   "pygments_lexer": "ipython3",
   "version": "3.9.12"
  }
 },
 "nbformat": 4,
 "nbformat_minor": 5
}
